{
 "cells": [
  {
   "cell_type": "code",
   "execution_count": 1,
   "metadata": {
    "collapsed": true
   },
   "outputs": [],
   "source": [
    "import numpy as np\n",
    "import math"
   ]
  },
  {
   "cell_type": "markdown",
   "source": [
    "#### Портфель"
   ],
   "metadata": {
    "collapsed": false
   }
  },
  {
   "cell_type": "code",
   "execution_count": 2,
   "outputs": [],
   "source": [
    "# задан портфель из двух инструментов\n",
    "portfolio = [\n",
    "    {\n",
    "        'quantity': 1,\n",
    "        'market_depth': 10_000,\n",
    "        'execution_lag': 3,\n",
    "        'ds': False,\n",
    "        'spot': 100,\n",
    "        'drift': None,\n",
    "        'volatility': None\n",
    "    },\n",
    "    {\n",
    "        'quantity': -2,\n",
    "        'market_depth': 10_000,\n",
    "        'execution_lag': 1,\n",
    "        'ds': False,\n",
    "        'spot': 100,\n",
    "        'drift': None,\n",
    "        'volatility': None\n",
    "    }\n",
    "]"
   ],
   "metadata": {
    "collapsed": false,
    "pycharm": {
     "name": "#%%\n"
    }
   }
  },
  {
   "cell_type": "markdown",
   "source": [
    "Предположительно нужно будет завести список каких-то факторов для генерации риск-факторов: цены и волатильность (посоветовали использовать SABR)"
   ],
   "metadata": {
    "collapsed": false
   }
  },
  {
   "cell_type": "code",
   "execution_count": 3,
   "outputs": [],
   "source": [
    "# factors"
   ],
   "metadata": {
    "collapsed": false,
    "pycharm": {
     "name": "#%%\n"
    }
   }
  },
  {
   "cell_type": "markdown",
   "source": [
    "#### Определение периода ликвидации портфеля $H$"
   ],
   "metadata": {
    "collapsed": false
   }
  },
  {
   "cell_type": "code",
   "execution_count": 4,
   "outputs": [],
   "source": [
    "def get_liquidation_period(portfolio):\n",
    "    check = [i['execution_lag'] + math.ceil(abs(i['quantity']) / i['market_depth']) for i in portfolio]\n",
    "\n",
    "    return max(check) - 1"
   ],
   "metadata": {
    "collapsed": false,
    "pycharm": {
     "name": "#%%\n"
    }
   }
  },
  {
   "cell_type": "code",
   "execution_count": 5,
   "outputs": [
    {
     "data": {
      "text/plain": "3"
     },
     "execution_count": 5,
     "metadata": {},
     "output_type": "execute_result"
    }
   ],
   "source": [
    "H = get_liquidation_period(portfolio)\n",
    "H"
   ],
   "metadata": {
    "collapsed": false,
    "pycharm": {
     "name": "#%%\n"
    }
   }
  },
  {
   "cell_type": "markdown",
   "source": [
    "#### Риск-сценарии $\\mathbf{r_k}$\n",
    "Они же ценовые пути, price_paths $P_i(\\mathbf{r_k})$\n",
    "\n",
    "Генерация производится непосредственно до реализации методологии CORE, в ней необходимы только ценовые пути"
   ],
   "metadata": {
    "collapsed": false
   }
  },
  {
   "cell_type": "code",
   "execution_count": 6,
   "outputs": [],
   "source": [
    "# временнная функция, присобачиваем Q_{i,0} к price_path\n",
    "def stack_prices(portfolio, price_path):\n",
    "    def_price = np.array([i['spot'] for i in portfolio]).reshape(len(portfolio), 1)\n",
    "\n",
    "    return np.hstack((def_price, price_path))"
   ],
   "metadata": {
    "collapsed": false,
    "pycharm": {
     "name": "#%%\n"
    }
   }
  },
  {
   "cell_type": "markdown",
   "source": [
    "Три сценария"
   ],
   "metadata": {
    "collapsed": false,
    "pycharm": {
     "name": "#%% md\n"
    }
   }
  },
  {
   "cell_type": "code",
   "execution_count": null,
   "outputs": [],
   "source": [
    "price_path1 = np.array([[130, 150, 160], # цена 1-го актива в течении времени\n",
    "                         [130, 150, 160]]) # цена 2-го актива в течении времени\n",
    "price_path1 = stack_prices(portfolio, price_path1)\n",
    "\n",
    "price_path2 = np.array([[80, 70, 60], # цена 1-го актива в течении времени\n",
    "                         [80, 70, 60]]) # цена 2-го актива в течении времени\n",
    "price_path2 = stack_prices(portfolio, price_path2)\n",
    "\n",
    "price_path3 = np.array([[110, 60, 80], # цена 1-го актива в течении времени\n",
    "                        [110, 60, 80]]) # цена 2-го актива в течении времени\n",
    "price_path3 = stack_prices(portfolio, price_path3)"
   ],
   "metadata": {
    "collapsed": false,
    "pycharm": {
     "name": "#%%\n"
    }
   }
  },
  {
   "cell_type": "code",
   "execution_count": 10,
   "outputs": [
    {
     "data": {
      "text/plain": "(array([[[100, 130, 150, 160],\n         [100, 130, 150, 160]],\n \n        [[100,  80,  70,  60],\n         [100,  80,  70,  60]],\n \n        [[100, 110,  60,  80],\n         [100, 110,  60,  80]]]),\n (3, 2, 4))"
     },
     "execution_count": 10,
     "metadata": {},
     "output_type": "execute_result"
    }
   ],
   "source": [
    "price_paths = np.array([price_path1,\n",
    "                        price_path2,\n",
    "                        price_path3])\n",
    "price_paths, price_paths.shape"
   ],
   "metadata": {
    "collapsed": false,
    "pycharm": {
     "name": "#%%\n"
    }
   }
  },
  {
   "cell_type": "markdown",
   "source": [
    "#### Определение вспомогательной функций: $\\psi_i (\\mathbf{r_k}, h)$\n",
    "Показывает потенциальный P&L для инструмента i при времени h в риск-сценарии $\\mathbf{r_k}$\n",
    "По факту из риск-сценария требуется ценовой путь"
   ],
   "metadata": {
    "collapsed": false
   }
  },
  {
   "cell_type": "code",
   "execution_count": 11,
   "outputs": [],
   "source": [
    "def portfolio_psi(portfolio, price_paths):\n",
    "    quantities = np.array([i['quantity'] for i in portfolio]).reshape(len(portfolio), 1)\n",
    "    ds = np.array([i['DS'] for i in portfolio]).reshape(len(portfolio),1)\n",
    "\n",
    "    mid = price_paths[:, :, 1:] - ds * price_paths[:, :, :-1]\n",
    "    return mid * quantities"
   ],
   "metadata": {
    "collapsed": false,
    "pycharm": {
     "name": "#%%\n"
    }
   }
  },
  {
   "cell_type": "code",
   "execution_count": 31,
   "outputs": [
    {
     "data": {
      "text/plain": "array([[[ 130,  150,  160],\n        [-260, -300, -320]],\n\n       [[  80,   70,   60],\n        [-160, -140, -120]],\n\n       [[ 110,   60,   80],\n        [-220, -120, -160]]])"
     },
     "execution_count": 31,
     "metadata": {},
     "output_type": "execute_result"
    }
   ],
   "source": [
    "# если будет класс фреймворка, то пси должно стать отдельным атрибутом\n",
    "psi = portfolio_psi(portfolio, price_paths)\n",
    "psi"
   ],
   "metadata": {
    "collapsed": false,
    "pycharm": {
     "name": "#%%\n"
    }
   }
  },
  {
   "cell_type": "markdown",
   "source": [
    "#### Оптимизация\n",
    "\n",
    "<img src=\"img.png\" alt=\"img\" width=\"500\"/>"
   ],
   "metadata": {
    "collapsed": false
   }
  },
  {
   "cell_type": "code",
   "execution_count": 13,
   "outputs": [],
   "source": [
    "strats_for_1 = [0, 0, 1]\n",
    "strats_for_2 = [[2, 0, 0],\n",
    "                [1, 1, 0],\n",
    "                [1, 0, 1],\n",
    "                [0, 1, 1],\n",
    "                [0, 2, 0],\n",
    "                [0, 0, 2]]\n",
    "\n",
    "quantities = np.array([i['quantity'] for i in portfolio]).reshape(len(portfolio), 1)\n",
    "ds = np.array([i['DS'] for i in portfolio]).reshape(len(portfolio), 1)\n",
    "abs_quantities = np.abs(quantities)"
   ],
   "metadata": {
    "collapsed": false,
    "pycharm": {
     "name": "#%%\n"
    }
   }
  },
  {
   "cell_type": "code",
   "execution_count": 14,
   "outputs": [
    {
     "name": "stdout",
     "output_type": "stream",
     "text": [
      "[[-260. -260. -100.]\n",
      " [-160. -160. -100.]\n",
      " [-220. -220. -140.]]\n",
      "-360.0\n",
      "[[-130. -280. -120.]\n",
      " [ -80. -150.  -90.]\n",
      " [-110. -170.  -90.]]\n",
      "-400.0\n",
      "[[-130. -130. -130.]\n",
      " [ -80.  -80.  -80.]\n",
      " [-110. -110. -110.]]\n",
      "-260.0\n",
      "[[   0. -150. -150.]\n",
      " [   0.  -70.  -70.]\n",
      " [   0.  -60.  -60.]]\n",
      "-300.0\n",
      "[[   0. -300. -140.]\n",
      " [   0. -140.  -80.]\n",
      " [   0. -120.  -40.]]\n",
      "-440.0\n",
      "[[   0.    0. -160.]\n",
      " [   0.    0.  -60.]\n",
      " [   0.    0.  -80.]]\n",
      "-320.0\n"
     ]
    }
   ],
   "source": [
    "for j in strats_for_2:\n",
    "    strategy = np.array([strats_for_1, j])\n",
    "\n",
    "    step1 = ds * (abs_quantities - np.cumsum(strategy, axis=1)) + strategy\n",
    "    step2 = psi * step1 / abs_quantities\n",
    "    step3 = np.sum(step2, axis=1).cumsum(axis=1)\n",
    "    print(step3)\n",
    "\n",
    "    first = step3[:,-1] # L(r_k, H)\n",
    "    second = np.min(step3, axis=1) # \\min_{h} L(r_k, h)\n",
    "    print(np.min(first + second))"
   ],
   "metadata": {
    "collapsed": false,
    "pycharm": {
     "name": "#%%\n"
    }
   }
  },
  {
   "cell_type": "markdown",
   "source": [
    "Целевая функция"
   ],
   "metadata": {
    "collapsed": false
   }
  },
  {
   "cell_type": "code",
   "execution_count": 15,
   "outputs": [],
   "source": [
    "def objective_func(portfolio, psi, strategy, type=\"WL\"):\n",
    "    \"\"\"\n",
    "    Objective function defined:\n",
    "\n",
    "    1) for permanent and worst transient loss in the worst case scenario\n",
    "        L_{WL} = \\min_{r_k} [L(r_k, H) + \\min_{h} L(r_k, h)]\n",
    "\n",
    "    2) for permanent loss in the worst case scenario\n",
    "        L_{PL} = \\min_{r_k} L(r_k, H)\n",
    "\n",
    "    3) for transient loss in the worst case scenario\n",
    "        L_{TL} = \\min_{r_k} \\min_{h} L(r_k, h)\n",
    "\n",
    "\n",
    "    :param portfolio: portfolio of assets as list of dicts\n",
    "    :param psi: numpy array of portfolio psi\n",
    "    :param strategy: dummy strategy\n",
    "    :param type: type of objective {\"WL\", \"PL\", \"TL\"}\n",
    "\n",
    "    :return: the value of objective, in other words, c-value\n",
    "    \"\"\"\n",
    "    quantities = np.array([i['quantity'] for i in portfolio]).reshape(len(portfolio), 1)\n",
    "    ds = np.array([i['DS'] for i in portfolio]).reshape(len(portfolio), 1)\n",
    "    abs_quantities = np.abs(quantities)\n",
    "\n",
    "    mid = ds * (abs_quantities - np.cumsum(strategy, axis=1)) + strategy\n",
    "    mid2 = psi * mid / abs_quantities\n",
    "    mid3 = np.sum(mid2, axis=1).cumsum(axis=1)\n",
    "\n",
    "    first = mid3[:,-1] # L(r_k, H)\n",
    "    second = np.min(mid3, axis=1) # \\min_{h} L(r_k, h)\n",
    "\n",
    "    if type.upper() == \"PL\":\n",
    "        return np.min(first)\n",
    "\n",
    "    if type.upper() == \"TL\":\n",
    "        return np.min(second)\n",
    "\n",
    "    return np.min(first + second)"
   ],
   "metadata": {
    "collapsed": false,
    "pycharm": {
     "name": "#%%\n"
    }
   }
  },
  {
   "cell_type": "code",
   "execution_count": 16,
   "outputs": [
    {
     "name": "stdout",
     "output_type": "stream",
     "text": [
      "-360.0\n",
      "-400.0\n",
      "-260.0\n",
      "-300.0\n",
      "-440.0\n",
      "-320.0\n"
     ]
    }
   ],
   "source": [
    "for j in strats_for_2:\n",
    "    strategy = np.array([strats_for_1, j])\n",
    "    print(objective_func(portfolio, psi, strategy))"
   ],
   "metadata": {
    "collapsed": false,
    "pycharm": {
     "name": "#%%\n"
    }
   }
  },
  {
   "cell_type": "code",
   "execution_count": 17,
   "outputs": [
    {
     "ename": "NameError",
     "evalue": "name 'h' is not defined",
     "output_type": "error",
     "traceback": [
      "\u001B[0;31m---------------------------------------------------------------------------\u001B[0m",
      "\u001B[0;31mNameError\u001B[0m                                 Traceback (most recent call last)",
      "Input \u001B[0;32mIn [17]\u001B[0m, in \u001B[0;36m<cell line: 1>\u001B[0;34m()\u001B[0m\n\u001B[0;32m----> 1\u001B[0m \u001B[43mh\u001B[49m\n",
      "\u001B[0;31mNameError\u001B[0m: name 'h' is not defined"
     ]
    }
   ],
   "source": [
    "h"
   ],
   "metadata": {
    "collapsed": false,
    "pycharm": {
     "name": "#%%\n"
    }
   }
  },
  {
   "cell_type": "markdown",
   "source": [
    "#### Пробуем GEKKO\n",
    "\n",
    "<img src=\"img2.png\" alt=\"img2\" width=\"500\"/>"
   ],
   "metadata": {
    "collapsed": false
   }
  },
  {
   "cell_type": "code",
   "execution_count": 19,
   "outputs": [],
   "source": [
    "from gekko import GEKKO"
   ],
   "metadata": {
    "collapsed": false,
    "pycharm": {
     "name": "#%%\n"
    }
   }
  },
  {
   "cell_type": "code",
   "execution_count": 20,
   "outputs": [],
   "source": [
    "m = GEKKO()"
   ],
   "metadata": {
    "collapsed": false,
    "pycharm": {
     "name": "#%%\n"
    }
   }
  },
  {
   "cell_type": "code",
   "execution_count": 33,
   "outputs": [
    {
     "data": {
      "text/plain": "array([[0, 0, 0],\n       [0, 0, 0]], dtype=object)"
     },
     "execution_count": 33,
     "metadata": {},
     "output_type": "execute_result"
    }
   ],
   "source": [
    "# задаём переменную\n",
    "# 2 условие Q_{i,h} >= 0\n",
    "# 3 условие Q_{i,h} <= Q_{i,0}\n",
    "strategy = [[m.Var(lb=0, ub=abs(i['quantity']), integer=True) for h in range(H)] for i in portfolio]\n",
    "np.array(strategy)"
   ],
   "metadata": {
    "collapsed": false,
    "pycharm": {
     "name": "#%%\n"
    }
   }
  },
  {
   "cell_type": "code",
   "execution_count": 28,
   "outputs": [
    {
     "name": "stdout",
     "output_type": "stream",
     "text": [
      "(((0+v1)+v2)+v3)=1\n",
      "(((0+v4)+v5)+v6)=-2\n"
     ]
    }
   ],
   "source": [
    "# 1 условие \\sum_{h=1}^{H} Q_{i,h} = Q_{i,0}\n",
    "for i in range(len(portfolio)):\n",
    "    temp = 0\n",
    "    for h in range(H):\n",
    "        temp += strategy[i][h]\n",
    "\n",
    "    m.Equation(portfolio[i]['quantity'] == temp)\n",
    "    print(m.Equation(portfolio[i]['quantity'] == temp))"
   ],
   "metadata": {
    "collapsed": false,
    "pycharm": {
     "name": "#%%\n"
    }
   }
  },
  {
   "cell_type": "code",
   "execution_count": null,
   "outputs": [],
   "source": [
    "# 5 условие\n",
    "for i in range(len(portfolio)):\n",
    "    temp = 0\n",
    "    for h in range(H):\n",
    "        temp += strategy[i][h]\n",
    "\n",
    "    m.Equation(portfolio[i]['quantity'] == temp)\n",
    "    print(m.Equation(portfolio[i]['quantity'] == temp))"
   ],
   "metadata": {
    "collapsed": false,
    "pycharm": {
     "name": "#%%\n"
    }
   }
  },
  {
   "cell_type": "code",
   "execution_count": null,
   "outputs": [],
   "source": [],
   "metadata": {
    "collapsed": false,
    "pycharm": {
     "name": "#%%\n"
    }
   }
  }
 ],
 "metadata": {
  "kernelspec": {
   "display_name": "Python 3",
   "language": "python",
   "name": "python3"
  },
  "language_info": {
   "codemirror_mode": {
    "name": "ipython",
    "version": 2
   },
   "file_extension": ".py",
   "mimetype": "text/x-python",
   "name": "python",
   "nbconvert_exporter": "python",
   "pygments_lexer": "ipython2",
   "version": "2.7.6"
  }
 },
 "nbformat": 4,
 "nbformat_minor": 0
}