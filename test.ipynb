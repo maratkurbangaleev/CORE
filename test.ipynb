{
 "cells": [
  {
   "cell_type": "code",
   "metadata": {
    "collapsed": true,
    "pycharm": {
     "name": "#%%\n"
    }
   },
   "source": [
    "import numpy as np\n",
    "from itertools import accumulate\n",
    "from gekko import GEKKO"
   ],
   "execution_count": 1,
   "outputs": []
  },
  {
   "cell_type": "markdown",
   "source": [
    "Здесь нужно будет фигануть класс всего фреймворка\n",
    "\n",
    "Изначально мы получаем на вход портфолио активов. Каждый актив характеризуется:\n",
    "- количеством (при этом, если оно в минусе, то там позиции на продажу)\n",
    "- глубина рынка\n",
    "- волатильность\n",
    "- дрифт\n",
    "- лаг исполнения\n",
    "- спотовая цена\n",
    "- есть ли ежедневная переоценка"
   ],
   "metadata": {
    "collapsed": false
   }
  },
  {
   "cell_type": "markdown",
   "source": [
    "После получения данных мы определяем период ликвидации по той логике, чем быстрее тем лучше\n",
    "Для разнообразия можно попробовать делать период 10 дней, если по формуле он выходит меньше"
   ],
   "metadata": {
    "collapsed": false
   }
  },
  {
   "cell_type": "markdown",
   "source": [
    "После этого генерируем ценовые пути на полученный временной интервал. Приписываем изначальные цены в начало этой трехмерной матрицы\n",
    "\n",
    "Затем для этих ценовых путей определяем $\\psi$ (psi). Она определяет потенциальный P&L для инструмента i при времени h в риск-сценарии $\\mathbf{r_k}$, по факту из риск-сценария требуется только ценовой путь\n",
    "\n",
    "Поскольку ценовых путей будет много, то выгодно сделать такие высоконагруженные операции в начале"
   ],
   "metadata": {
    "collapsed": false
   }
  },
  {
   "cell_type": "markdown",
   "source": [
    "Далее по идее начинается работа оптимизатора Branch\\&Bound\n"
   ],
   "metadata": {
    "collapsed": false
   }
  },
  {
   "cell_type": "markdown",
   "source": [
    "#### Адаптация под оптимизаторы MINLP"
   ],
   "metadata": {
    "collapsed": false
   }
  },
  {
   "cell_type": "markdown",
   "source": [
    "Общие параметры"
   ],
   "metadata": {
    "collapsed": false
   }
  },
  {
   "cell_type": "code",
   "execution_count": 2,
   "outputs": [],
   "source": [
    "def portfolio_psi(portfolio, price_paths):\n",
    "    quantities = np.array([i['quantity'] for i in portfolio]).reshape(len(portfolio), 1)\n",
    "    ds = np.array([i['ds'] for i in portfolio]).reshape(len(portfolio),1)\n",
    "\n",
    "    mid = price_paths[:, :, 1:] - ds * price_paths[:, :, :-1]\n",
    "    return mid * quantities"
   ],
   "metadata": {
    "collapsed": false,
    "pycharm": {
     "name": "#%%\n"
    }
   }
  },
  {
   "cell_type": "code",
   "execution_count": 3,
   "outputs": [],
   "source": [
    "# Parameters\n",
    "H = 3\n",
    "\n",
    "# задан портфель из двух инструментов\n",
    "portfolio = [\n",
    "    {\n",
    "        'quantity': 1,\n",
    "        'execution_lag': 3,\n",
    "        'ds': False\n",
    "    },\n",
    "    {\n",
    "        'quantity': -2,\n",
    "        'execution_lag': 1,\n",
    "        'ds': False\n",
    "    }\n",
    "]"
   ],
   "metadata": {
    "collapsed": false,
    "pycharm": {
     "name": "#%%\n"
    }
   }
  },
  {
   "cell_type": "code",
   "execution_count": 4,
   "outputs": [
    {
     "data": {
      "text/plain": "(3, 2, 4)"
     },
     "execution_count": 4,
     "metadata": {},
     "output_type": "execute_result"
    }
   ],
   "source": [
    "price_path1 = np.array([[100, 130, 150, 160],\n",
    "                        [100, 130, 150, 160]])\n",
    "\n",
    "price_path2 = np.array([[100, 80, 70, 60],\n",
    "                        [100, 80, 70, 60]])\n",
    "\n",
    "price_path3 = np.array([[100, 110, 60, 80],\n",
    "                        [100, 110, 60, 80]])\n",
    "\n",
    "price_paths = np.array([price_path1,\n",
    "                        price_path2,\n",
    "                        price_path3])\n",
    "price_paths.shape"
   ],
   "metadata": {
    "collapsed": false,
    "pycharm": {
     "name": "#%%\n"
    }
   }
  },
  {
   "cell_type": "markdown",
   "source": [
    "# alternate case\n",
    "price_paths = []\n",
    "for _ in range(10_000):\n",
    "    price_paths.append(np.random.rand(len(portfolio), H+1) * 200) # типо генерим сценарии\n",
    "\n",
    "price_paths = np.array(price_paths)\n",
    "price_paths.shape"
   ],
   "metadata": {
    "collapsed": false,
    "pycharm": {
     "name": "#%% md\n"
    }
   }
  },
  {
   "cell_type": "code",
   "execution_count": 5,
   "outputs": [
    {
     "data": {
      "text/plain": "[[[130, 150, 160], [-260, -300, -320]],\n [[80, 70, 60], [-160, -140, -120]],\n [[110, 60, 80], [-220, -120, -160]]]"
     },
     "execution_count": 5,
     "metadata": {},
     "output_type": "execute_result"
    }
   ],
   "source": [
    "# important variables\n",
    "psi = portfolio_psi(portfolio, price_paths).tolist()\n",
    "quantities = [i['quantity'] for i in portfolio]\n",
    "ds = [i['ds'] for i in portfolio]\n",
    "abs_quantities = [abs(i) for i in quantities]\n",
    "\n",
    "psi"
   ],
   "metadata": {
    "collapsed": false,
    "pycharm": {
     "name": "#%%\n"
    }
   }
  },
  {
   "cell_type": "markdown",
   "source": [
    "Целевая функция на чистом питоне"
   ],
   "metadata": {
    "collapsed": false
   }
  },
  {
   "cell_type": "markdown",
   "source": [
    "def pure_objective_func(portfolio, psi, strategy):\n",
    "    cumsum = [list(accumulate(row)) for row in strategy]\n",
    "    step11 = [[abs_quantities[i] - cumsum[i][h] for h in range(H)] for i in range(len(portfolio))]\n",
    "    step12 = [[ds[i] * step11[i][h] for h in range(H)] for i in range(len(portfolio))]\n",
    "    step13 = [[step12[i][h] + strategy[i][h] for h in range(H)] for i in range(len(portfolio))]\n",
    "\n",
    "    step21 = [[[psi[k][i][h] * step13[i][h] for h in range(H)] for i in range(len(portfolio))] for k in range(len(psi))]\n",
    "    step22 = [[[step21[k][i][h] / abs_quantities[i] for h in range(H)] for i in range(len(portfolio))] for k in range(len(psi))]\n",
    "\n",
    "    step31 = [[sum(col) for col in zip(*m)] for m in step22]\n",
    "    step32 = [list(accumulate(row)) for row in step31]\n",
    "\n",
    "    # print(step32)\n",
    "\n",
    "    first = [row[-1] for row in step32] # L(r_k, H)\n",
    "    second = [min(row) for row in step32] # \\min_{h} L(r_k, h)\n",
    "\n",
    "    return min([i + j for i, j in zip(first, second)]) # WL case"
   ],
   "metadata": {
    "collapsed": false,
    "pycharm": {
     "name": "#%% md\n"
    }
   }
  },
  {
   "cell_type": "code",
   "execution_count": 6,
   "outputs": [],
   "source": [
    "def alt_pure_objective_func(portfolio, psi, strategy):\n",
    "    cumsum = [list(accumulate(row)) for row in strategy]\n",
    "    step1 = [[ds[i] * (abs_quantities[i] - cumsum[i][h]) + strategy[i][h] for h in range(H)] for i in range(len(portfolio))]\n",
    "\n",
    "    step2 = [[[psi[k][i][h] * step1[i][h] / abs_quantities[i] for h in range(H)] for i in range(len(portfolio))] for k in range(len(psi))]\n",
    "\n",
    "    step3 = [list(accumulate(map(sum, zip(*rows)))) for rows in step2]\n",
    "\n",
    "    # print(step3)\n",
    "\n",
    "    first = [row[-1] for row in step3] # L(r_k, H)\n",
    "    second = [min(row) for row in step3] # \\min_{h} L(r_k, h)\n",
    "\n",
    "    return min([i + j for i, j in zip(first, second)]) # WL case"
   ],
   "metadata": {
    "collapsed": false,
    "pycharm": {
     "name": "#%%\n"
    }
   }
  },
  {
   "cell_type": "markdown",
   "source": [
    "%%time\n",
    "strat1 = [0, 0, 1]\n",
    "strats2 = [[2, 0, 0],\n",
    "           [1, 1, 0],\n",
    "           [1, 0, 1],\n",
    "           [0, 1, 1],\n",
    "           [0, 2, 0],\n",
    "           [0, 0, 2]]\n",
    "\n",
    "for j in strats2:\n",
    "    Q = [strat1, j]\n",
    "    print(pure_objective_func(portfolio, psi, Q))"
   ],
   "metadata": {
    "collapsed": false,
    "pycharm": {
     "name": "#%% md\n"
    }
   }
  },
  {
   "cell_type": "code",
   "execution_count": 8,
   "outputs": [
    {
     "name": "stdout",
     "output_type": "stream",
     "text": [
      "-360.0\n",
      "-400.0\n",
      "-260.0\n",
      "-300.0\n",
      "-440.0\n",
      "-320.0\n",
      "CPU times: user 444 µs, sys: 270 µs, total: 714 µs\n",
      "Wall time: 541 µs\n"
     ]
    }
   ],
   "source": [
    "%%time\n",
    "strat1 = [0, 0, 1]\n",
    "strats2 = [[2, 0, 0],\n",
    "           [1, 1, 0],\n",
    "           [1, 0, 1],\n",
    "           [0, 1, 1],\n",
    "           [0, 2, 0],\n",
    "           [0, 0, 2]]\n",
    "\n",
    "for j in strats2:\n",
    "    Q = [strat1, j]\n",
    "    print(alt_pure_objective_func(portfolio, psi, Q))"
   ],
   "metadata": {
    "collapsed": false,
    "pycharm": {
     "name": "#%%\n"
    }
   }
  },
  {
   "cell_type": "code",
   "execution_count": 9,
   "outputs": [],
   "source": [
    "# trying GEKKO\n",
    "m = GEKKO()"
   ],
   "metadata": {
    "collapsed": false,
    "pycharm": {
     "name": "#%%\n"
    }
   }
  },
  {
   "cell_type": "markdown",
   "source": [
    "#### Пробуем GEKKO\n",
    "\n",
    "<img src=\"img2.png\" alt=\"img2\" width=\"500\"/>"
   ],
   "metadata": {
    "collapsed": false
   }
  },
  {
   "cell_type": "code",
   "execution_count": 10,
   "outputs": [
    {
     "name": "stdout",
     "output_type": "stream",
     "text": [
      "[[0, 0, 0], [0, 0, 0]]\n"
     ]
    }
   ],
   "source": [
    "# define optimizable variable\n",
    "# 2 условие Q_{i,h} >= 0\n",
    "# 3 условие Q_{i,h} <= Q_{i,0}\n",
    "strategy = [[m.Var(lb=0, ub=abs(i['quantity']), integer=True) for h in range(H)] for i in portfolio]\n",
    "print(strategy)"
   ],
   "metadata": {
    "collapsed": false,
    "pycharm": {
     "name": "#%%\n"
    }
   }
  },
  {
   "cell_type": "code",
   "execution_count": 11,
   "outputs": [
    {
     "name": "stdout",
     "output_type": "stream",
     "text": [
      "(((0+int_v1)+int_v2)+int_v3)=1\n",
      "(((0+int_v4)+int_v5)+int_v6)=-2\n"
     ]
    }
   ],
   "source": [
    "# 1 условие \\sum_{h=1}^{H} Q_{i,h} = Q_{i,0}\n",
    "for i in range(len(portfolio)):\n",
    "    temp = 0\n",
    "    for h in range(H):\n",
    "        temp += strategy[i][h]\n",
    "\n",
    "    m.Equation(portfolio[i]['quantity'] == temp)\n",
    "    print(m.Equation(portfolio[i]['quantity'] == temp))"
   ],
   "metadata": {
    "collapsed": false,
    "pycharm": {
     "name": "#%%\n"
    }
   }
  },
  {
   "cell_type": "code",
   "execution_count": 12,
   "outputs": [
    {
     "name": "stdout",
     "output_type": "stream",
     "text": [
      "int_v1=0\n",
      "int_v2=0\n"
     ]
    }
   ],
   "source": [
    "# 5 условие\n",
    "for i in range(len(portfolio)):\n",
    "    for h in range(portfolio[i]['execution_lag'] - 1):\n",
    "        m.Equation(strategy[i][h] == 0)\n",
    "        print(m.Equation(strategy[i][h] == 0))"
   ],
   "metadata": {
    "collapsed": false,
    "pycharm": {
     "name": "#%%\n"
    }
   }
  },
  {
   "cell_type": "code",
   "execution_count": 13,
   "outputs": [
    {
     "ename": "TypeError",
     "evalue": "object of type 'int' has no len()",
     "output_type": "error",
     "traceback": [
      "\u001B[0;31m---------------------------------------------------------------------------\u001B[0m",
      "\u001B[0;31mTypeError\u001B[0m                                 Traceback (most recent call last)",
      "Input \u001B[0;32mIn [13]\u001B[0m, in \u001B[0;36m<cell line: 1>\u001B[0;34m()\u001B[0m\n\u001B[0;32m----> 1\u001B[0m m\u001B[38;5;241m.\u001B[39mObj(\u001B[38;5;241m-\u001B[39m\u001B[43malt_pure_objective_func\u001B[49m\u001B[43m(\u001B[49m\u001B[43mportfolio\u001B[49m\u001B[38;5;241;43m=\u001B[39;49m\u001B[43mportfolio\u001B[49m\u001B[43m,\u001B[49m\n\u001B[1;32m      2\u001B[0m \u001B[43m                               \u001B[49m\u001B[43mpsi\u001B[49m\u001B[38;5;241;43m=\u001B[39;49m\u001B[43mpsi\u001B[49m\u001B[43m,\u001B[49m\n\u001B[1;32m      3\u001B[0m \u001B[43m                               \u001B[49m\u001B[43mstrategy\u001B[49m\u001B[38;5;241;43m=\u001B[39;49m\u001B[43mstrategy\u001B[49m\u001B[43m)\u001B[49m)\n",
      "Input \u001B[0;32mIn [6]\u001B[0m, in \u001B[0;36malt_pure_objective_func\u001B[0;34m(portfolio, psi, strategy)\u001B[0m\n\u001B[1;32m      9\u001B[0m \u001B[38;5;66;03m# print(step3)\u001B[39;00m\n\u001B[1;32m     11\u001B[0m first \u001B[38;5;241m=\u001B[39m [row[\u001B[38;5;241m-\u001B[39m\u001B[38;5;241m1\u001B[39m] \u001B[38;5;28;01mfor\u001B[39;00m row \u001B[38;5;129;01min\u001B[39;00m step3] \u001B[38;5;66;03m# L(r_k, H)\u001B[39;00m\n\u001B[0;32m---> 12\u001B[0m second \u001B[38;5;241m=\u001B[39m [\u001B[38;5;28mmin\u001B[39m(row) \u001B[38;5;28;01mfor\u001B[39;00m row \u001B[38;5;129;01min\u001B[39;00m step3] \u001B[38;5;66;03m# \\min_{h} L(r_k, h)\u001B[39;00m\n\u001B[1;32m     14\u001B[0m \u001B[38;5;28;01mreturn\u001B[39;00m \u001B[38;5;28mmin\u001B[39m([i \u001B[38;5;241m+\u001B[39m j \u001B[38;5;28;01mfor\u001B[39;00m i, j \u001B[38;5;129;01min\u001B[39;00m \u001B[38;5;28mzip\u001B[39m(first, second)])\n",
      "Input \u001B[0;32mIn [6]\u001B[0m, in \u001B[0;36m<listcomp>\u001B[0;34m(.0)\u001B[0m\n\u001B[1;32m      9\u001B[0m \u001B[38;5;66;03m# print(step3)\u001B[39;00m\n\u001B[1;32m     11\u001B[0m first \u001B[38;5;241m=\u001B[39m [row[\u001B[38;5;241m-\u001B[39m\u001B[38;5;241m1\u001B[39m] \u001B[38;5;28;01mfor\u001B[39;00m row \u001B[38;5;129;01min\u001B[39;00m step3] \u001B[38;5;66;03m# L(r_k, H)\u001B[39;00m\n\u001B[0;32m---> 12\u001B[0m second \u001B[38;5;241m=\u001B[39m [\u001B[38;5;28;43mmin\u001B[39;49m\u001B[43m(\u001B[49m\u001B[43mrow\u001B[49m\u001B[43m)\u001B[49m \u001B[38;5;28;01mfor\u001B[39;00m row \u001B[38;5;129;01min\u001B[39;00m step3] \u001B[38;5;66;03m# \\min_{h} L(r_k, h)\u001B[39;00m\n\u001B[1;32m     14\u001B[0m \u001B[38;5;28;01mreturn\u001B[39;00m \u001B[38;5;28mmin\u001B[39m([i \u001B[38;5;241m+\u001B[39m j \u001B[38;5;28;01mfor\u001B[39;00m i, j \u001B[38;5;129;01min\u001B[39;00m \u001B[38;5;28mzip\u001B[39m(first, second)])\n",
      "File \u001B[0;32m~/PycharmProjects/CORE/venv/lib/python3.8/site-packages/gekko/gk_operators.py:25\u001B[0m, in \u001B[0;36mGK_Operators.__len__\u001B[0;34m(self)\u001B[0m\n\u001B[1;32m     24\u001B[0m \u001B[38;5;28;01mdef\u001B[39;00m \u001B[38;5;21m__len__\u001B[39m(\u001B[38;5;28mself\u001B[39m):\n\u001B[0;32m---> 25\u001B[0m     \u001B[38;5;28;01mreturn\u001B[39;00m \u001B[38;5;28;43mlen\u001B[39;49m\u001B[43m(\u001B[49m\u001B[38;5;28;43mself\u001B[39;49m\u001B[38;5;241;43m.\u001B[39;49m\u001B[43mvalue\u001B[49m\u001B[43m)\u001B[49m\n",
      "File \u001B[0;32m~/PycharmProjects/CORE/venv/lib/python3.8/site-packages/gekko/gk_operators.py:144\u001B[0m, in \u001B[0;36mGK_Value.__len__\u001B[0;34m(self)\u001B[0m\n\u001B[1;32m    143\u001B[0m \u001B[38;5;28;01mdef\u001B[39;00m \u001B[38;5;21m__len__\u001B[39m(\u001B[38;5;28mself\u001B[39m):\n\u001B[0;32m--> 144\u001B[0m     \u001B[38;5;28;01mreturn\u001B[39;00m \u001B[38;5;28;43mlen\u001B[39;49m\u001B[43m(\u001B[49m\u001B[38;5;28;43mself\u001B[39;49m\u001B[38;5;241;43m.\u001B[39;49m\u001B[43mvalue\u001B[49m\u001B[43m)\u001B[49m\n",
      "\u001B[0;31mTypeError\u001B[0m: object of type 'int' has no len()"
     ]
    }
   ],
   "source": [
    "m.Obj(-alt_pure_objective_func(portfolio=portfolio,\n",
    "                               psi=psi,\n",
    "                               strategy=strategy))"
   ],
   "metadata": {
    "collapsed": false,
    "pycharm": {
     "name": "#%%\n"
    }
   }
  },
  {
   "cell_type": "code",
   "execution_count": null,
   "outputs": [],
   "source": [
    "m.options.SOLVER=1\n",
    "m.solve()"
   ],
   "metadata": {
    "collapsed": false,
    "pycharm": {
     "name": "#%%\n"
    }
   }
  }
 ],
 "metadata": {
  "kernelspec": {
   "display_name": "Python 3",
   "language": "python",
   "name": "python3"
  },
  "language_info": {
   "codemirror_mode": {
    "name": "ipython",
    "version": 2
   },
   "file_extension": ".py",
   "mimetype": "text/x-python",
   "name": "python",
   "nbconvert_exporter": "python",
   "pygments_lexer": "ipython2",
   "version": "2.7.6"
  }
 },
 "nbformat": 4,
 "nbformat_minor": 0
}