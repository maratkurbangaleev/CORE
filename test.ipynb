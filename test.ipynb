{
 "cells": [
  {
   "cell_type": "code",
   "execution_count": 2,
   "metadata": {
    "collapsed": true
   },
   "outputs": [],
   "source": [
    "import numpy as np\n",
    "import math"
   ]
  },
  {
   "cell_type": "code",
   "execution_count": 16,
   "outputs": [],
   "source": [
    "# задан портфель из двух инструментов\n",
    "portfolio = [\n",
    "    {\n",
    "        'quantity': 1,\n",
    "        'market_depth': 10_000,\n",
    "        'execution_lag': 3,\n",
    "        'DS': False,\n",
    "        'spot': 100\n",
    "    },\n",
    "    {\n",
    "        'quantity': -2,\n",
    "        'market_depth': 10_000,\n",
    "        'execution_lag': 1,\n",
    "        'DS': False,\n",
    "        'spot': 100\n",
    "    }\n",
    "\n",
    "]"
   ],
   "metadata": {
    "collapsed": false,
    "pycharm": {
     "name": "#%%\n"
    }
   }
  },
  {
   "cell_type": "code",
   "execution_count": 13,
   "outputs": [
    {
     "data": {
      "text/plain": "array([[1. , 1.3, 1.5, 1.6],\n       [1. , 0.8, 0.7, 0.6],\n       [1. , 1.1, 0.6, 0.8]])"
     },
     "execution_count": 13,
     "metadata": {},
     "output_type": "execute_result"
    }
   ],
   "source": [
    "# это просто риск-сценарии, количество строк независимо от количества активов,\n",
    "# но предполагается что количество столбцов равно периоду ликвидации\n",
    "# и вообще говоря их мы просто генерируем\n",
    "r_k = np.array([[0.3, 0.5, 0.6],\n",
    "                [-0.2, -0.3, -0.4],\n",
    "                [0.1, -0.4, -0.2]]) + 1\n",
    "\n",
    "def_r = np.full((len(r_k[0]), 1), 1) # default risk factor\n",
    "\n",
    "risk_scenarios = np.hstack((def_r, r_k))\n",
    "risk_scenarios\n"
   ],
   "metadata": {
    "collapsed": false,
    "pycharm": {
     "name": "#%%\n"
    }
   }
  },
  {
   "cell_type": "code",
   "execution_count": 13,
   "outputs": [],
   "source": [],
   "metadata": {
    "collapsed": false,
    "pycharm": {
     "name": "#%%\n"
    }
   }
  },
  {
   "cell_type": "code",
   "execution_count": 17,
   "outputs": [],
   "source": [
    "def get_liquidation_period(portfolio):\n",
    "    check = []\n",
    "    for i in portfolio:\n",
    "        check.append(i['execution_lag'] + math.ceil(i['quantity'] / i['market_depth']))\n",
    "\n",
    "    return max(check) - 1"
   ],
   "metadata": {
    "collapsed": false,
    "pycharm": {
     "name": "#%%\n"
    }
   }
  },
  {
   "cell_type": "code",
   "execution_count": 18,
   "outputs": [
    {
     "data": {
      "text/plain": "3"
     },
     "execution_count": 18,
     "metadata": {},
     "output_type": "execute_result"
    }
   ],
   "source": [
    "H = get_liquidation_period(portfolio)\n",
    "H"
   ],
   "metadata": {
    "collapsed": false,
    "pycharm": {
     "name": "#%%\n"
    }
   }
  },
  {
   "cell_type": "code",
   "execution_count": 19,
   "outputs": [],
   "source": [
    "# dummy formula\n",
    "def check_num_of_strategies(instrument, liquidation_period):\n",
    "    return math.comb(liquidation_period - instrument['execution_lag'] + abs(instrument['quantity']),\n",
    "                     abs(instrument['quantity']))"
   ],
   "metadata": {
    "collapsed": false,
    "pycharm": {
     "name": "#%%\n"
    }
   }
  },
  {
   "cell_type": "code",
   "execution_count": 22,
   "outputs": [
    {
     "data": {
      "text/plain": "6"
     },
     "execution_count": 22,
     "metadata": {},
     "output_type": "execute_result"
    }
   ],
   "source": [
    "check_num_of_strategies(portfolio[1], H)"
   ],
   "metadata": {
    "collapsed": false,
    "pycharm": {
     "name": "#%%\n"
    }
   }
  },
  {
   "cell_type": "code",
   "execution_count": 26,
   "outputs": [],
   "source": [
    "# для первого инструмента только одна стратегия: [0 0 1]\n",
    "# наверное перебрать все стратегии, но это очень неэффективно\n",
    "possible_strats_for_1 = [[0, 0, 1]]\n",
    "possible_strats_for_2 = [[2, 0, 0],\n",
    "                         [1, 1, 0],\n",
    "                         [1, 0, 1],\n",
    "                         [0, 1, 1],\n",
    "                         [0, 2, 0],\n",
    "                         [0, 0, 2]]"
   ],
   "metadata": {
    "collapsed": false,
    "pycharm": {
     "name": "#%%\n"
    }
   }
  },
  {
   "cell_type": "code",
   "execution_count": 23,
   "outputs": [],
   "source": [
    "def result_function(instrument, risk_scenarios):\n",
    "    return risk_scenarios[::, instrument['execution_lag']:] * instrument['quantity'] * instrument['spot']"
   ],
   "metadata": {
    "collapsed": false,
    "pycharm": {
     "name": "#%%\n"
    }
   }
  },
  {
   "cell_type": "code",
   "execution_count": 24,
   "outputs": [
    {
     "data": {
      "text/plain": "array([[160.],\n       [ 60.],\n       [ 80.]])"
     },
     "execution_count": 24,
     "metadata": {},
     "output_type": "execute_result"
    }
   ],
   "source": [
    "result_function(portfolio[0], risk_scenarios)"
   ],
   "metadata": {
    "collapsed": false,
    "pycharm": {
     "name": "#%%\n"
    }
   }
  },
  {
   "cell_type": "code",
   "execution_count": 25,
   "outputs": [
    {
     "data": {
      "text/plain": "array([[-260., -300., -320.],\n       [-160., -140., -120.],\n       [-220., -120., -160.]])"
     },
     "execution_count": 25,
     "metadata": {},
     "output_type": "execute_result"
    }
   ],
   "source": [
    "result_function(portfolio[1], risk_scenarios)"
   ],
   "metadata": {
    "collapsed": false,
    "pycharm": {
     "name": "#%%\n"
    }
   }
  },
  {
   "cell_type": "markdown",
   "source": [
    "![img.png](img.png)"
   ],
   "metadata": {
    "collapsed": false
   }
  },
  {
   "cell_type": "markdown",
   "source": [
    "### strategy 2 0 0\n",
    "-130 * 2 --> -260 --> -260 + 160\n",
    "-80 * 2  --> -160 --> -160 + 60\n",
    "-110 * 2 --> -220 --> -220 + 80\n",
    "\n",
    "### strategy 1 1 0\n",
    "-130 --> -130 + -150 --> -280 + 160\n",
    " -80 --> -80 + -70   --> -150 + 60\n",
    "-110 --> -110 + -60  --> -170 + 80\n",
    "\n",
    "### strategy 1 0 1\n",
    "-130 --> -130 --> -130 + -160 + 160\n",
    " -80 --> -80  --> -80 + -60 + 60\n",
    "-110 --> -110 --> -110 + -80 + 80\n",
    "\n",
    "### strategy 0 1 1\n",
    "0 --> -150 --> -150 + -160 + 160\n",
    "0 --> -70  --> -70 + -60 + 60\n",
    "0 --> -60  --> -60 + -80 + 80\n",
    "\n",
    "### strategy 0 2 0\n",
    "0 --> -150 * 2 --> -300 + 160\n",
    "0 --> -70 * 2  --> -140 + 60\n",
    "0 --> -60 * 2  --> -120 + 80\n",
    "\n",
    "### strategy 0 0 2\n",
    "0 --> 0 --> -160 * 2 + 160\n",
    "0 --> 0 --> -60 * 2 + 60\n",
    "0 --> 0 --> -80 * 2 + 80"
   ],
   "metadata": {
    "collapsed": false
   }
  },
  {
   "cell_type": "code",
   "execution_count": null,
   "outputs": [],
   "source": [
    "\n"
   ],
   "metadata": {
    "collapsed": false,
    "pycharm": {
     "name": "#%%\n"
    }
   }
  }
 ],
 "metadata": {
  "kernelspec": {
   "display_name": "Python 3",
   "language": "python",
   "name": "python3"
  },
  "language_info": {
   "codemirror_mode": {
    "name": "ipython",
    "version": 2
   },
   "file_extension": ".py",
   "mimetype": "text/x-python",
   "name": "python",
   "nbconvert_exporter": "python",
   "pygments_lexer": "ipython2",
   "version": "2.7.6"
  }
 },
 "nbformat": 4,
 "nbformat_minor": 0
}