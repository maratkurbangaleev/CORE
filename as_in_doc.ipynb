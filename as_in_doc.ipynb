{
 "cells": [
  {
   "cell_type": "code",
   "execution_count": 1,
   "metadata": {
    "collapsed": true
   },
   "outputs": [],
   "source": [
    "import math\n",
    "import numpy as np"
   ]
  },
  {
   "cell_type": "code",
   "execution_count": null,
   "outputs": [],
   "source": [
    "# we have 5 instruments\n",
    "Q_0 = np.array([1, 2, 3, 4, 5])\n",
    "\n",
    "# let H be a liquidation period (in days)\n",
    "H = 4"
   ],
   "metadata": {
    "collapsed": false,
    "pycharm": {
     "name": "#%%\n",
     "is_executing": true
    }
   }
  },
  {
   "cell_type": "code",
   "execution_count": 30,
   "outputs": [
    {
     "data": {
      "text/plain": "array([[100, 110, 150, 170,  90],\n       [100,  80, 110, 150, 120],\n       [100, 140, 120, 130, 150],\n       [100,  90, 100,  70,  50],\n       [100,  80,  60,  90, 110]])"
     },
     "execution_count": 30,
     "metadata": {},
     "output_type": "execute_result"
    }
   ],
   "source": [
    "# risk scenario under nature state **k**\n",
    "# for example price of five applied stocks\n",
    "def_r = np.full((5,1), 100) # default risk factor\n",
    "\n",
    "r_k = np.array([[110, 150, 170, 90],\n",
    "                [80, 110, 150, 120],\n",
    "                [140, 120, 130, 150],\n",
    "                [90, 100, 70, 50],\n",
    "                [80, 60, 90, 110]])\n",
    "\n",
    "r_k = np.hstack((def_r, r_k))\n",
    "r_k"
   ],
   "metadata": {
    "collapsed": false,
    "pycharm": {
     "name": "#%%\n"
    }
   }
  },
  {
   "cell_type": "code",
   "execution_count": 31,
   "outputs": [],
   "source": [
    "def result_func(phi, Q_i0, r_ik, t, DS):\n",
    "    \"\"\"\n",
    "\n",
    "    :param phi: == 1 ==> long position, == -1 ==> short position\n",
    "    :param Q_i0: initial state of instrument\n",
    "    :param r_ik: risk scenario\n",
    "    :param t: time\n",
    "    :param DS: daily settlement\n",
    "    :return:\n",
    "    \"\"\"\n",
    "\n",
    "    val = Q_i0 * phi\n",
    "    if DS:\n",
    "        return val * (r_ik[t-1] - r_ik[t-2])\n",
    "\n",
    "    return val * r_ik[t-1]"
   ],
   "metadata": {
    "collapsed": false,
    "pycharm": {
     "name": "#%%\n"
    }
   }
  },
  {
   "cell_type": "code",
   "execution_count": null,
   "outputs": [],
   "source": [
    "def aggregated_result_func()"
   ],
   "metadata": {
    "collapsed": false,
    "pycharm": {
     "name": "#%%\n"
    }
   }
  }
 ],
 "metadata": {
  "kernelspec": {
   "display_name": "Python 3",
   "language": "python",
   "name": "python3"
  },
  "language_info": {
   "codemirror_mode": {
    "name": "ipython",
    "version": 2
   },
   "file_extension": ".py",
   "mimetype": "text/x-python",
   "name": "python",
   "nbconvert_exporter": "python",
   "pygments_lexer": "ipython2",
   "version": "2.7.6"
  }
 },
 "nbformat": 4,
 "nbformat_minor": 0
}